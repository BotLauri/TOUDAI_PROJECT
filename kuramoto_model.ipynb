{
  "cells": [
    {
      "cell_type": "markdown",
      "metadata": {
        "id": "qO1FD-aMJqjW"
      },
      "source": [
        "# 蔵本モデルのシミュレーション"
      ]
    },
    {
      "cell_type": "markdown",
      "metadata": {
        "id": "fqHwRPhcJw5w"
      },
      "source": [
        "蔵本モデルの平均場モデル\n",
        "$$ \\dot{\\theta_k} = \\omega_k + Kr\\sin(\\Psi - \\theta_k), \\quad r e^{i\\Psi} = \\frac{1}{N} \\sum_{j = 1}^{N} e^{i \\theta_k} $$\n",
        "のシミュレーションを行う．"
      ]
    },
    {
      "cell_type": "code",
      "execution_count": 3,
      "metadata": {
        "id": "kWbEEXv3Kw26"
      },
      "outputs": [
        {
          "ename": "ModuleNotFoundError",
          "evalue": "No module named 'numpy'",
          "output_type": "error",
          "traceback": [
            "\u001b[1;31m---------------------------------------------------------------------------\u001b[0m",
            "\u001b[1;31mModuleNotFoundError\u001b[0m                       Traceback (most recent call last)",
            "Cell \u001b[1;32mIn [3], line 2\u001b[0m\n\u001b[0;32m      1\u001b[0m \u001b[38;5;28;01mimport\u001b[39;00m \u001b[38;5;21;01mcmath\u001b[39;00m\n\u001b[1;32m----> 2\u001b[0m \u001b[38;5;28;01mimport\u001b[39;00m \u001b[38;5;21;01mnumpy\u001b[39;00m \u001b[38;5;28;01mas\u001b[39;00m \u001b[38;5;21;01mnp\u001b[39;00m\n\u001b[0;32m      3\u001b[0m \u001b[38;5;28;01mfrom\u001b[39;00m \u001b[38;5;21;01mscipy\u001b[39;00m\u001b[38;5;21;01m.\u001b[39;00m\u001b[38;5;21;01mintegrate\u001b[39;00m \u001b[38;5;28;01mimport\u001b[39;00m solve_ivp\n\u001b[0;32m      4\u001b[0m \u001b[38;5;28;01mfrom\u001b[39;00m \u001b[38;5;21;01mmatplotlib\u001b[39;00m \u001b[38;5;28;01mimport\u001b[39;00m pyplot \u001b[38;5;28;01mas\u001b[39;00m plt\n",
            "\u001b[1;31mModuleNotFoundError\u001b[0m: No module named 'numpy'"
          ]
        }
      ],
      "source": [
        "import cmath\n",
        "import numpy as np\n",
        "from scipy.integrate import solve_ivp\n",
        "from matplotlib import pyplot as plt\n",
        "from matplotlib import rc # imported for showing the animation on colaboratory\n",
        "from IPython.display import HTML # imported for showing the animation on colaboratory\n",
        "import matplotlib as mpl\n",
        "mpl.rcParams[\"mathtext.fontset\"] = \"stix\"\n",
        "mpl.rcParams[\"animation.embed_limit\"] = 2**128\n",
        "from matplotlib.animation import FuncAnimation\n",
        "from matplotlib.patches import Arrow"
      ]
    },
    {
      "cell_type": "markdown",
      "metadata": {
        "id": "YtTZjlNY4jW_"
      },
      "source": [
        "## 蔵本モデルの定義"
      ]
    },
    {
      "cell_type": "code",
      "execution_count": null,
      "metadata": {
        "id": "pGvmeh-4Jj_Y"
      },
      "outputs": [
        {
          "ename": "",
          "evalue": "",
          "output_type": "error",
          "traceback": [
            "\u001b[1;31mRunning cells with 'Python 3.10.7 64-bit' requires ipykernel package.\n",
            "\u001b[1;31mRun the following command to install 'ipykernel' into the Python environment. \n",
            "\u001b[1;31mCommand: 'c:/Users/jonas/AppData/Local/Programs/Python/Python310/python.exe -m pip install ipykernel -U --user --force-reinstall'"
          ]
        }
      ],
      "source": [
        "def kuramoto_model(t, v, N, K, omega):\n",
        "    '''\n",
        "    Kuramoto model (mean field model)\n",
        "    '''\n",
        "    op = np.exp(1j * v).sum() / N # Kuramoto Order Parameter\n",
        "    r, psi = cmath.polar(op) # absolute value and phase\n",
        "#    r = np.abs(op) # absolute value\n",
        "#    psi = np.angle(op) # phase\n",
        "    vdot = omega + K * r * np.sin(psi - v)\n",
        "    return vdot"
      ]
    },
    {
      "cell_type": "markdown",
      "metadata": {
        "id": "UsGxkDnIL0Z9"
      },
      "source": [
        "## パラメータなどの設定"
      ]
    },
    {
      "cell_type": "code",
      "execution_count": null,
      "metadata": {
        "id": "WU-EnTKhJ6yc"
      },
      "outputs": [
        {
          "ename": "",
          "evalue": "",
          "output_type": "error",
          "traceback": [
            "\u001b[1;31mRunning cells with 'Python 3.10.7 64-bit' requires ipykernel package.\n",
            "\u001b[1;31mRun the following command to install 'ipykernel' into the Python environment. \n",
            "\u001b[1;31mCommand: 'c:/Users/jonas/AppData/Local/Programs/Python/Python310/python.exe -m pip install ipykernel -U --user --force-reinstall'"
          ]
        }
      ],
      "source": [
        "N = 1600 # number of oscillators\n",
        "K = 3 # coupling constant\n",
        "seed = 2021 # random seed\n",
        "\n",
        "t_end = 1000 # calculation terminates at t = t_end\n",
        "n_point = 1000 # number of data to animate"
      ]
    },
    {
      "cell_type": "markdown",
      "metadata": {
        "id": "x6wqFYhoMlk6"
      },
      "source": [
        "## 初期状態をランダムに生成"
      ]
    },
    {
      "cell_type": "code",
      "execution_count": null,
      "metadata": {
        "id": "wzEFMVyVMmAb"
      },
      "outputs": [
        {
          "ename": "",
          "evalue": "",
          "output_type": "error",
          "traceback": [
            "\u001b[1;31mRunning cells with 'Python 3.10.7 64-bit' requires ipykernel package.\n",
            "\u001b[1;31mRun the following command to install 'ipykernel' into the Python environment. \n",
            "\u001b[1;31mCommand: 'c:/Users/jonas/AppData/Local/Programs/Python/Python310/python.exe -m pip install ipykernel -U --user --force-reinstall'"
          ]
        }
      ],
      "source": [
        "rng = np.random.default_rng(seed=seed) # generator\n",
        "# initial values of omega follow normal distribution with mean = 0 and sd = 1\n",
        "omega = rng.normal(loc=0, scale=1, size=N)\n",
        "# initial values of theta follow uniform distribution\n",
        "ic = rng.random(size=(N,)) * 2 * np.pi"
      ]
    },
    {
      "cell_type": "markdown",
      "metadata": {
        "id": "fHDxn4LZOR4d"
      },
      "source": [
        "## 数値的に解き，データを記録する\n",
        "振動子数を増やすと解くのに時間がかかる．毎回計算すると大変なので，csvやnpzファイルとして計算結果を保存して，それを読み込んで図や動画を作成した方がおそらく良い．\n",
        "\n",
        "ここでは簡潔にするために，計算した結果をそのまま描画に使う．"
      ]
    },
    {
      "cell_type": "code",
      "execution_count": null,
      "metadata": {
        "id": "NaJEMamFOTWy"
      },
      "outputs": [
        {
          "ename": "",
          "evalue": "",
          "output_type": "error",
          "traceback": [
            "\u001b[1;31mRunning cells with 'Python 3.10.7 64-bit' requires ipykernel package.\n",
            "\u001b[1;31mRun the following command to install 'ipykernel' into the Python environment. \n",
            "\u001b[1;31mCommand: 'c:/Users/jonas/AppData/Local/Programs/Python/Python310/python.exe -m pip install ipykernel -U --user --force-reinstall'"
          ]
        }
      ],
      "source": [
        "t_eval = np.linspace(0, t_end, n_point)\n",
        "# solve the initial value problem\n",
        "res = solve_ivp(fun=kuramoto_model, args=(N, K, omega,), y0=ic, \n",
        "                t_span=(0, t_end), t_eval=t_eval, atol=1e-6, rtol=1e-3)\n",
        "\n",
        "t = res.t # history of time\n",
        "theta_hist = res.y # history of theta\n",
        "op_hist = np.exp(1j * res.y).sum(axis=0) / N # history of order parameter\n",
        "r_hist = np.abs(op_hist) # history of r(t)\n",
        "psi_hist = np.angle(op_hist) # history of Psi(t)"
      ]
    },
    {
      "cell_type": "markdown",
      "metadata": {
        "id": "JLE4wBmB8H15"
      },
      "source": [
        "## 結果を図示する\n",
        "左側に$r$と$\\Psi$の時系列，右側に$\\theta_k$の時間発展を動画で示す．"
      ]
    },
    {
      "cell_type": "code",
      "execution_count": null,
      "metadata": {
        "id": "5AGohtLt96bO"
      },
      "outputs": [
        {
          "ename": "",
          "evalue": "",
          "output_type": "error",
          "traceback": [
            "\u001b[1;31mRunning cells with 'Python 3.10.7 64-bit' requires ipykernel package.\n",
            "\u001b[1;31mRun the following command to install 'ipykernel' into the Python environment. \n",
            "\u001b[1;31mCommand: 'c:/Users/jonas/AppData/Local/Programs/Python/Python310/python.exe -m pip install ipykernel -U --user --force-reinstall'"
          ]
        }
      ],
      "source": [
        "def update(tpl, m1, m2, ax, sc, txt,):\n",
        "    '''\n",
        "    updates some elements in the figure.\n",
        "    This method will be called in FuncAnimation().\n",
        "    '''\n",
        "    t, theta, r, psi = tpl\n",
        "\n",
        "    m1.set_data(t, r)\n",
        "    m2.set_data(t, psi / np.pi)\n",
        "\n",
        "    data = np.hstack((np.cos(theta)[:, np.newaxis], np.sin(theta)[:, np.newaxis]))\n",
        "    sc.set_offsets(data)\n",
        "    txt.set_text(rf'$t = {t:.2f}$')\n",
        "\n",
        "    ax.patches = []\n",
        "    arrow = Arrow(x=0, y=0, dx=r * np.cos(psi), dy=r * np.sin(psi), width=0.1, color='k')\n",
        "    a = ax.add_patch(arrow)\n",
        "    return m1, m2, sc, txt, a,"
      ]
    },
    {
      "cell_type": "markdown",
      "metadata": {
        "id": "mtNyFEL66gzk"
      },
      "source": [
        "描画のメインの処理．  \n",
        "Jupyter NotebookやColaboratoryを使っているか，.pyファイルとして実行するかで，最後の部分の処理が変わる(適宜コメントアウトをつけたり外したりしてください)．"
      ]
    },
    {
      "cell_type": "code",
      "execution_count": null,
      "metadata": {
        "colab": {
          "base_uri": "https://localhost:8080/",
          "height": 518
        },
        "id": "p5DRFB__7tJn",
        "outputId": "fe23eee5-653c-4420-dd58-f828ccb83887"
      },
      "outputs": [
        {
          "ename": "",
          "evalue": "",
          "output_type": "error",
          "traceback": [
            "\u001b[1;31mRunning cells with 'Python 3.10.7 64-bit' requires ipykernel package.\n",
            "\u001b[1;31mRun the following command to install 'ipykernel' into the Python environment. \n",
            "\u001b[1;31mCommand: 'c:/Users/jonas/AppData/Local/Programs/Python/Python310/python.exe -m pip install ipykernel -U --user --force-reinstall'"
          ]
        }
      ],
      "source": [
        "fig, axes = plt.subplots(ncols=2, figsize=(8, 4), dpi=120)\n",
        "fig.tight_layout(rect=[0,0,1,0.9])\n",
        "fig.suptitle(rf'Kuramoto Model with $N = {N}$, $K = {K}$') # title for entire figure\n",
        "\n",
        "# initialize the figure\n",
        "\n",
        "####################\n",
        "# plot time-series of r and Psi on the left\n",
        "####################\n",
        "ax = axes[0]\n",
        "ax.set_title(r'Time Evolution of $r$, $\\Psi$')\n",
        "ax.set_xlabel(r'$t$')\n",
        "ax.set_ylabel(r'$r$')\n",
        "ax.set_ylim((0, 1))\n",
        "\n",
        "# second y-axis on the right side\n",
        "twin = ax.twinx()\n",
        "twin.set_ylabel(r'$\\Psi / \\pi$')\n",
        "twin.set_ylim((-1.5, 1.5))\n",
        "\n",
        "# plot data\n",
        "pl1, = ax.plot(t, r_hist, lw=0.8, c='r', zorder=5, label=r'$r$')\n",
        "pl2, = twin.plot(t, psi_hist / np.pi, lw=0.8, c='c', zorder=3, label=r'$\\Psi / \\pi$')\n",
        "ax.legend(handles=[pl1, pl2])\n",
        "\n",
        "# show markers\n",
        "m1, = ax.plot(t[0], r_hist[0], ls='none', marker='o', c='r')\n",
        "m2, = twin.plot(t[0], psi_hist[0] / np.pi, ls='none', marker='o', c='c')\n",
        "\n",
        "####################\n",
        "# animate the time evolution of theta_k\n",
        "####################\n",
        "ax = axes[1]\n",
        "\n",
        "# axes settings\n",
        "p = np.linspace(0, 2 * np.pi, 50)\n",
        "ax.tick_params(axis='both', left=False, bottom=False, labelleft=False, labelbottom=False)\n",
        "ax.set_aspect('equal')\n",
        "\n",
        "ax.set_title(r'Time Evolution of phase $\\theta_k$')\n",
        "ax.plot(np.cos(p), np.sin(p), lw=0.5, c='k', zorder=1)\n",
        "\n",
        "# show the time and data\n",
        "txt = ax.text(x=0.5, y=-1, s=r'$t = 0$')\n",
        "sc = ax.scatter(np.cos(theta_hist[:, 0]), np.sin(theta_hist[:, 0]), s=5, c=omega, cmap='jet', edgecolors='k', linewidth=0.1, zorder=3)\n",
        "plt.colorbar(sc, ax=ax, fraction=0.046, pad=0.04, label=r'$\\omega_k$')\n",
        "\n",
        "# draw an arrow indicating r and Psi\n",
        "arrow = Arrow(x=0, y=0, dx=r_hist[0] * np.cos(psi_hist[0]), dy=r_hist[0] * np.sin(psi_hist[0]), width=0.1, color='k')\n",
        "a = ax.add_patch(arrow)\n",
        "\n",
        "# create an animation\n",
        "## if you are running this script as .ipynb file or on colaboratory (only show first 240 frames)\n",
        "#ani = FuncAnimation(fig, update, frames=zip(t, theta_hist.T, r_hist, psi_hist), fargs=(m1, m2, ax, sc, txt,), interval=1000 / 30, blit=True, save_count=240)\n",
        "\n",
        "## use instead these lines if you are running this script as .py file\n",
        "#ani = FuncAnimation(fig, update, frames=zip(t, theta_hist.T, r_hist, psi_hist), fargs=(m1, m2, ax, sc, txt,), interval=1000 / 30, blit=True)\n",
        "#plt.show()\n"
      ]
    },
    {
      "cell_type": "markdown",
      "metadata": {
        "id": "moge99bw4n29"
      },
      "source": [
        "FuncAnimation()で動画を描画するので，基本的には動画を再生しつつ描画処理が行われる(表示する前に動画作成を終える必要がない)．\n",
        ".pyファイルとして実行する場合にはこれがうまくいくが，Jupyter NotebookやColaboratoryではうまくいかないので，`save_count`で描画するフレーム数を指定し，その分だけ動画が作成された後で再生できる．\n",
        "ある程度長さのある動画を表示したい場合は.pyファイルとして実行する方が良さそう．\n",
        "\n",
        "動画を保存したい場合には，`save_count`を指定して先に動画を作成する必要がある．\n",
        "これには多少時間がかかる(Colaboratory上だと重すぎるのか，1000フレーム全体を使った動画は作成できないみたい)．"
      ]
    },
    {
      "cell_type": "code",
      "execution_count": null,
      "metadata": {
        "colab": {
          "base_uri": "https://localhost:8080/",
          "height": 579
        },
        "id": "o98iDm_9z2pf",
        "outputId": "60449c5b-4652-4729-809c-9e9f15b83cc7"
      },
      "outputs": [
        {
          "ename": "",
          "evalue": "",
          "output_type": "error",
          "traceback": [
            "\u001b[1;31mRunning cells with 'Python 3.10.7 64-bit' requires ipykernel package.\n",
            "\u001b[1;31mRun the following command to install 'ipykernel' into the Python environment. \n",
            "\u001b[1;31mCommand: 'c:/Users/jonas/AppData/Local/Programs/Python/Python310/python.exe -m pip install ipykernel -U --user --force-reinstall'"
          ]
        }
      ],
      "source": [
        "# show the figure on jupyter notebook or colaboratory(it may take some time)\n",
        "# comment these lines if you are running this script as a .py file\n",
        "rc('animation', html='jshtml')\n",
        "ani"
      ]
    },
    {
      "cell_type": "markdown",
      "metadata": {
        "id": "l0-gZ375AzsB"
      },
      "source": [
        "2021-09-22　石井秀昌"
      ]
    }
  ],
  "metadata": {
    "colab": {
      "collapsed_sections": [],
      "provenance": []
    },
    "kernelspec": {
      "display_name": "Python 3.10.7 64-bit",
      "language": "python",
      "name": "python3"
    },
    "language_info": {
      "codemirror_mode": {
        "name": "ipython",
        "version": 3
      },
      "file_extension": ".py",
      "mimetype": "text/x-python",
      "name": "python",
      "nbconvert_exporter": "python",
      "pygments_lexer": "ipython3",
      "version": "3.10.7"
    },
    "vscode": {
      "interpreter": {
        "hash": "683e9bbf599fde3b00e37a0db68ad40a268db525b46af3924c3427b16ddb8792"
      }
    }
  },
  "nbformat": 4,
  "nbformat_minor": 0
}
